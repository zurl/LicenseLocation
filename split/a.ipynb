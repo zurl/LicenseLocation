{
 "cells": [
  {
   "cell_type": "code",
   "execution_count": 6,
   "metadata": {},
   "outputs": [
    {
     "ename": "SyntaxError",
     "evalue": "invalid syntax (<ipython-input-6-21d6be8e4354>, line 1)",
     "output_type": "error",
     "traceback": [
      "\u001b[1;36m  File \u001b[1;32m\"<ipython-input-6-21d6be8e4354>\"\u001b[1;36m, line \u001b[1;32m1\u001b[0m\n\u001b[1;33m    from '.\\split' import *\u001b[0m\n\u001b[1;37m                 ^\u001b[0m\n\u001b[1;31mSyntaxError\u001b[0m\u001b[1;31m:\u001b[0m invalid syntax\n"
     ]
    }
   ],
   "source": [
    "from '.\\split' import *\n",
    "import numpy as np\n",
    "import cv2\n",
    "\n",
    "label_file = open('char.txt')\n",
    "label = label_file.readlines()\n",
    "no = map(lambda x:x[0:4],label)"
   ]
  },
  {
   "cell_type": "code",
   "execution_count": null,
   "metadata": {},
   "outputs": [],
   "source": [
    ""
   ]
  }
 ],
 "metadata": {},
 "nbformat": 4,
 "nbformat_minor": 0
}