{
 "cells": [
  {
   "cell_type": "code",
   "execution_count": 1,
   "metadata": {},
   "outputs": [],
   "source": [
    "import numpy as np\n",
    "import pandas as pd\n",
    "import cv2\n",
    "import matplotlib as mpl\n",
    "import matplotlib.pyplot as plt\n",
    "def show(img):\n",
    "    cv2.imshow(\"source\",img)\n",
    "    cv2.waitKey(0)"
   ]
  },
  {
   "cell_type": "code",
   "execution_count": 2,
   "metadata": {},
   "outputs": [],
   "source": [
    "img = cv2.resize(cv2.imread(\"pic\\\\1225.jpg\"),(384,288))\n",
    "img = cv2.cvtColor(img,cv2.COLOR_BGR2GRAY)"
   ]
  },
  {
   "cell_type": "code",
   "execution_count": 3,
   "metadata": {},
   "outputs": [],
   "source": [
    "# Image Enhancement\n",
    "base_vertex = [(x,y) for x in range(0,9) for y in range(0,9)]\n",
    "pos_vertex = map(lambda x:(x[0]*36,x[1]*48),base_vertex)\n",
    "vermap = lambda x,y:x*8+y\n",
    "IWmean = [ img[\n",
    "    0   if i[0] == 0 else i[0] - 18:\n",
    "    288 if i[0] == 288 else i[0] + 18,\n",
    "    0   if i[1] == 0 else i[1] - 24:\n",
    "    384 if i[1] == 384 else i[1] + 24]\n",
    "             .mean() for i in pos_vertex]\n",
    "IWstd = [ img[\n",
    "    0   if i[0] == 0 else i[0] - 18:\n",
    "    288 if i[0] == 288 else i[0] + 18,\n",
    "    0   if i[1] == 0 else i[1] - 24:\n",
    "    384 if i[1] == 384 else i[1] + 24]\n",
    "             .std() for i in pos_vertex]\n",
    "# Cx = (j-48n) * 1.0/48\n",
    "# Cy = (i-36m) * 1.0/36\n",
    "# Imean(i,j) = (1-Cy) * ((1 - Cx) * IWmean(A) + CxIWmean(B))\n",
    "#              + Cy * ((1 - Cx) * IWmean(C) + CxIWmean(D))\n",
    "# Istd(i,j)  = (1-Cy) * ((1 - Cx) * IWstd(A) + CxIWstd(B))\n",
    "#              + Cy * ((1 - Cx) * IWstd(C) + CxIWstd(D))\n",
    "def getImean(i,j):\n",
    "    m = i//36\n",
    "    n = j//48\n",
    "    Cx = (j-48*n) * 1.0/48\n",
    "    Cy = (i-36*m) * 1.0/36\n",
    "    Imean = (1-Cy) * ((1 - Cx) * IWmean[vermap(m,n)]   + Cx*IWmean[vermap(m,n+1)])\\\n",
    "              + Cy * ((1 - Cx) * IWmean[vermap(m+1,n)] + Cx*IWmean[vermap(m+1,n+1)])\n",
    "    Istd  = (1-Cy) * ((1 - Cx) * IWstd[vermap(m,n)]    + Cx*IWstd[vermap(m,n+1)])\\\n",
    "              + Cy * ((1 - Cx) * IWstd[vermap(m+1,n)]  + Cx*IWstd[vermap(m+1,n+1)])\n",
    "    return Imean,Istd \n",
    "def getCoe(std):\n",
    "    if std < 20:\n",
    "        return 3.0 / ((2.0 / 400) * (std - 20) *(std - 20) + 1)\n",
    "    elif std < 60:\n",
    "        return 3.0 / ((2.0 / 1600) * (std - 20) *(std - 20) + 1)\n",
    "    else:\n",
    "        return 1        \n",
    "def doImap(img):\n",
    "    ret = np.empty_like(img)\n",
    "    for i in range(0,img.shape[0]):\n",
    "        for j in range(0,img.shape[1]):\n",
    "            val = getImean(i,j)\n",
    "            coe = getCoe(val[1])\n",
    "            ret[i,j] = coe * (img[i,j] - val[0]) + val[0]\n",
    "    return ret\n",
    "img2 = doImap(img)"
   ]
  },
  {
   "cell_type": "code",
   "execution_count": 4,
   "metadata": {},
   "outputs": [],
   "source": [
    "img2 = cv2.convertScaleAbs(cv2.Sobel(img2,cv2.CV_64F,2,0,11))\n",
    "tmp,img3 = cv2.threshold(img2,75,255,cv2.THRESH_BINARY)"
   ]
  },
  {
   "cell_type": "code",
   "execution_count": 27,
   "metadata": {},
   "outputs": [],
   "source": [
    "# Curve remove\n",
    "M = np.zeros_like(img)\n",
    "N = np.zeros_like(img)\n",
    "Tlong = 100\n",
    "Tshort = 0\n",
    "for i in range(2,288):\n",
    "    for j in range(2,384):\n",
    "        if img3[i, j] == 255:\n",
    "            if img3[i-1, j-1] + img3[i-1, j] + img3[i-1, j+1] + img3[i, j-1] > 0:\n",
    "                M[i, j] = max(M[i-1, j-1], M[i-1, j], M[i-1, j+1], M[i, j-1]) + 1\n",
    "            else:\n",
    "                M[i, j] = max(M[i-2, j-1], M[i-2, j], M[i-2, j+1],\n",
    "                             M[i-1, j-2], M[i-1, j+2], M[i, j-2]) + 1\n",
    "for i in range(0,286)[::-1]:\n",
    "    for j in range(0,382)[::-1]:\n",
    "        if img3[i, j] == 255:\n",
    "            if img3[i+1,j-1] + img3[i+1, j] + img3[i+1, j+1] + img3[i, j+1] > 0:\n",
    "                N[i, j] = max(N[i+1, j-1], N[i+1, j], N[i+1, j+1], N[i, j+1]) + 1\n",
    "            else:\n",
    "                N[i, j] = max(N[i+2, j-1], N[i+2, j], N[i+2, j+1],\n",
    "                             N[i+1, j-2], N[i+1, j+2], N[i, j+2]) + 1\n",
    "for i in range(0,288):\n",
    "    for j in range(0,384):\n",
    "        if img3[i,j] == 255:\n",
    "            if M[i,j] + N[i,j] >Tlong or M[i,j] + N[i,j] < Tshort:\n",
    "                img3[i,j] = 0"
   ]
  },
  {
   "cell_type": "code",
   "execution_count": 28,
   "metadata": {},
   "outputs": [],
   "source": [
    "show(img3)"
   ]
  },
  {
   "cell_type": "code",
   "execution_count": 5,
   "metadata": {},
   "outputs": [],
   "source": [
    "def cluster(img):\n",
    "    kernelX = cv2.getStructuringElement(cv2.MORPH_RECT,(12, 1))  \n",
    "    closed = cv2.morphologyEx(img, cv2.MORPH_CLOSE, kernelX)\n",
    "    return cv2.morphologyEx(closed, cv2.MORPH_OPEN, kernelX)\n",
    "def antiNoise(img):\n",
    "    kernelX = cv2.getStructuringElement(cv2.MORPH_RECT,(1, 6))  \n",
    "    closed = cv2.morphologyEx(img, cv2.MORPH_OPEN, kernelX)\n",
    "    return cv2.morphologyEx(closed, cv2.MORPH_CLOSE, kernelX)\n",
    "\n",
    "img4 = cluster(antiNoise(img3))\n",
    "img5 = cv2.erode(img4, None, iterations = 4)\n",
    "img5 = cv2.dilate(img5, None, iterations = 4)\n",
    "\n",
    "contours, hierarchy,_ = cv2.findContours(img5.copy(),cv2.RETR_EXTERNAL,cv2.CHAIN_APPROX_NONE)"
   ]
  },
  {
   "cell_type": "code",
   "execution_count": 34,
   "metadata": {},
   "outputs": [],
   "source": [
    "# rect find\n",
    "img0 = img.copy()\n",
    "rect = map(cv2.minAreaRect,hierarchy)\n",
    "rect = map(cv2.boxPoints,rect)\n",
    "rect = map(cv2.boundingRect,rect)"
   ]
  },
  {
   "cell_type": "code",
   "execution_count": 35,
   "metadata": {},
   "outputs": [
    {
     "data": {
      "text/plain": [
       "[(378, 188, 5, 33),\n (16, 162, 34, 15),\n (226, 160, 90, 25),\n (72, 123, 28, 18),\n (116, 122, 41, 48),\n (355, 114, 21, 20),\n (1, 98, 33, 35),\n (100, 88, 12, 12),\n (49, 75, 16, 14),\n (341, 57, 30, 15),\n (229, 42, 44, 23),\n (332, 35, 21, 16),\n (356, 14, 12, 9),\n (1, 1, 170, 79)]"
      ]
     },
     "execution_count": 35,
     "output_type": "execute_result",
     "metadata": {}
    }
   ],
   "source": [
    "rect"
   ]
  },
  {
   "cell_type": "code",
   "execution_count": 36,
   "metadata": {},
   "outputs": [],
   "source": [
    "#rect filter\n",
    "def squareFilter(x):\n",
    "    area = x[2] * x[3]\n",
    "    return area <= 288 * 384 * 0.05 and area >= 288 * 384 * 0.01\n",
    "def heightFilter(x):\n",
    "    return x[1] <= 288 * 0.9 and x[1] >= 288 * 0.2\n",
    "def hwRateFilter(x):\n",
    "    return x[2] > x[3] * 1.5  and x[2] < x[3] * 8.8\n",
    "rect = filter(squareFilter,rect)\n",
    "rect = filter(heightFilter,rect)\n",
    "rect = filter(hwRateFilter,rect)"
   ]
  },
  {
   "cell_type": "code",
   "execution_count": 37,
   "metadata": {},
   "outputs": [],
   "source": [
    "# rect draw\n",
    "def draw_rect(x):\n",
    "    cv2.rectangle(img0,(x[0],x[1]),(x[0]+x[2],x[1]+x[3]),(0,255,255))\n",
    "map(draw_rect,rect)\n",
    "show(img0)"
   ]
  },
  {
   "cell_type": "code",
   "execution_count": 2,
   "metadata": {},
   "outputs": [],
   "source": [
    "label_file = open('detectlabel.txt')\n",
    "label = label_file.readlines()"
   ]
  },
  {
   "cell_type": "code",
   "execution_count": 5,
   "metadata": {},
   "outputs": [],
   "source": [
    "label = label[:10]"
   ]
  },
  {
   "cell_type": "code",
   "execution_count": 12,
   "metadata": {},
   "outputs": [],
   "source": [
    ""
   ]
  },
  {
   "cell_type": "code",
   "execution_count": 21,
   "metadata": {},
   "outputs": [],
   "source": [
    "location = map(lambda x:map(lambda x:filter(lambda x:x!='',x.split(' ')),x[1:]),label1)"
   ]
  },
  {
   "cell_type": "code",
   "execution_count": 27,
   "metadata": {},
   "outputs": [
    {
     "data": {
      "text/plain": [
       "[['2029', '739', '2040', '924', '1472', '1212', '1447', '982'],\n ['2029', '739', '2040', '924', '1472', '1212', '1447', '982'],\n ['2029', '739', '2040', '924', '1472', '1212', '1447', '982'],\n ['2029', '739', '2040', '924', '1472', '1212', '1447', '982'],\n ['2029', '739', '2040', '924', '1472', '1212', '1447', '982'],\n ['2029', '739', '2040', '924', '1472', '1212', '1447', '982'],\n ['2029', '739', '2040', '924', '1472', '1212', '1447', '982'],\n ['2029', '739', '2040', '924', '1472', '1212', '1447', '982'],\n ['2029', '739', '2040', '924', '1472', '1212', '1447', '982'],\n ['2029', '739', '2040', '924', '1472', '1212', '1447', '982']]"
      ]
     },
     "execution_count": 27,
     "output_type": "execute_result",
     "metadata": {}
    }
   ],
   "source": [
    "[y for y in x for x in location]"
   ]
  },
  {
   "cell_type": "code",
   "execution_count": null,
   "metadata": {},
   "outputs": [],
   "source": [
    ""
   ]
  }
 ],
 "metadata": {},
 "nbformat": 4,
 "nbformat_minor": 0
}